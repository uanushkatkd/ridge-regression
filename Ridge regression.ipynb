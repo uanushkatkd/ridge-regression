{
 "cells": [
  {
   "cell_type": "code",
   "execution_count": 3,
   "metadata": {},
   "outputs": [],
   "source": [
    "import numpy as np\n",
    "import pandas as pd\n",
    "import matplotlib.pyplot as plt\n",
    "import random\n",
    "'''\n",
    "col=[]\n",
    "for i in range(100):\n",
    "    col.append(i+1)\n",
    "col.append('y')  \n",
    "r=[]\n",
    "for i in range(10000):\n",
    "    r.append('x'+str(i+1))\n",
    "\n",
    "'''\n",
    "df=pd.read_csv(\"A2Q2Data_train.csv\")\n",
    "#df.index=r\n",
    "\n",
    "\n",
    "#Ridge regression\n",
    "#df.columns\n",
    "#data=df.to_numpy()\n",
    "#print(data.shape)\n",
    "#X=data[:,:100]\n",
    "#X=X.T\n",
    "\n",
    "#Y=data[:,-1]\n",
    "#print(Y.shape)\n",
    "#print(X.shape)\n",
    "\n",
    "#df.head()\n"
   ]
  },
  {
   "cell_type": "code",
   "execution_count": 4,
   "metadata": {},
   "outputs": [],
   "source": [
    "#Cross Validation\n",
    "\n",
    "#randomizing data\n",
    "df= df.reindex(np.random.permutation(df.index))\n",
    "#print(df.head())\n",
    "\n",
    "#reset data\n",
    "df= df.reset_index(drop=True)\n",
    "#print(df.head())\n",
    "\n",
    "#folds                                                              \n",
    "train = df.loc[0:7999]                                            \n",
    "test = df.loc[8000:9999]"
   ]
  },
  {
   "cell_type": "code",
   "execution_count": 13,
   "metadata": {},
   "outputs": [],
   "source": [
    "#def obj_fun(p1):\n",
    "#    return np.linalg.norm(p1-w_ml)\n",
    "\n",
    "#print(g.shape)\n",
    "#print(g)\n",
    "\n",
    "def grad_desc(train,Lambda):\n",
    "    \n",
    "    data=train.to_numpy()\n",
    "    X_g=data[:,:100]\n",
    "    Y_g=data[:,-1]\n",
    "    w=np.array([0 for i in range(100)])\n",
    "    #print(w)\n",
    "    T=1000\n",
    "    t=1 \n",
    "    #w_his=w\n",
    "    #obj_his=obj_fun(w)\n",
    "    delta_w = np.zeros(w.shape)\n",
    "    while(t<T):\n",
    "        n=0.1/t\n",
    "        #print(grad_fun(w))\n",
    "        delta_w = -(2*n/10000)*(((X_g.T)@(np.dot(X_g,w.T)-Y_g))+((Lambda*(np.identity(100,dtype=float)))@(w.T)))\n",
    "        #print(delta_w)\n",
    "        w = w+delta_w\n",
    "\n",
    "        #w_his = np.vstack((w_his,w))\n",
    "        #obj_his = np.vstack((obj_his,obj_fun(w)))\n",
    "        t+=1\n",
    "\n",
    "    #print(obj_his.shape)\n",
    "    #print(w_his.shape)\n",
    "    #print(obj_his[-1])\n",
    "    \n",
    "    return w\n",
    "    "
   ]
  },
  {
   "cell_type": "code",
   "execution_count": 14,
   "metadata": {},
   "outputs": [
    {
     "data": {
      "image/png": "[encoded data removed]",
      "text/plain": [
       "<Figure size 432x288 with 1 Axes>"
      ]
     },
     "metadata": {
      "needs_background": "light"
     },
     "output_type": "display_data"
    },
    {
     "name": "stdout",
     "output_type": "stream",
     "text": [
      "[0.10460617246110929, 0.10461083187375642, 0.10461549127608351, 0.10462015066809073, 0.10462481004977822, 0.10462946942114623, 0.10463412878219479, 0.10463878813292404, 0.10464344747333426, 0.10464810680342551, 0.10465276612319804, 0.1046574254326519, 0.10466208473178724, 0.10466674402060422, 0.10467140329910317, 0.104676062567284, 0.10468072182514696, 0.10468538107269217, 0.10469004030991994, 0.10469469953683022, 0.10469935875342323, 0.10470401795969915, 0.10470867715565813, 0.10471333634130034, 0.10471799551662592, 0.10472265468163501, 0.1047273138363277, 0.10473197298070423, 0.10473663211476472, 0.10474129123850935, 0.10474595035193832, 0.10475060945505162, 0.10475526854784965, 0.10475992763033233, 0.10476458670249991, 0.10476924576435245, 0.10477390481589034, 0.10477856385711345, 0.10478322288802218]\n"
     ]
    }
   ],
   "source": [
    "e=[]\n",
    "     \n",
    "#cross=[]\n",
    "\n",
    "def test_d(wr,test,l):\n",
    "    data=test.to_numpy()\n",
    "    e=np.array(wr)\n",
    "    X_g=data[:,:100]\n",
    "    Y_g=data[:,-1]\n",
    "    #print('error test',np.dot(X_g,e.T))\n",
    "    #print('y test',Y_g)\n",
    "    error=(np.linalg.norm((np.dot(X_g,e.T))-Y_g)+(l*np.linalg.norm(e)))\n",
    "    return error\n",
    "\n",
    "l=0.1\n",
    "L=4\n",
    "while l<L:\n",
    "    w_r=[]\n",
    "    w_r.append(grad_desc(train,l))\n",
    "    e.append(test_d(w_r,test,l))\n",
    "    l=l+0.1\n",
    "#print('optimal w',w_r)\n",
    "    #cross.append(sum(e)/len(e))\n",
    "    #print(len(e))\n",
    "    #w_r.clear()\n",
    "    #e.clear()\n",
    "    \n",
    "    \n",
    "    \n",
    "    \n",
    "x = np.arange(len(e))\n",
    "c=np.array(e)#print(x_axis)\n",
    "plt.plot(x,c)\n",
    "plt.xlabel('Lambda')\n",
    "plt.ylabel('Error Function')\n",
    "plt.title('Error Function Vs Lambda')\n",
    "    \n",
    "\n",
    "plt.show()        \n",
    " \n",
    "print(e)\n",
    "#print(cross)\n",
    "#print(w_r)    "
   ]
  },
  {
   "cell_type": "code",
   "execution_count": null,
   "metadata": {},
   "outputs": [],
   "source": []
  }
 ],
 "metadata": {
  "kernelspec": {
   "display_name": "Python 3",
   "language": "python",
   "name": "python3"
  },
  "language_info": {
   "codemirror_mode": {
    "name": "ipython",
    "version": 3
   },
   "file_extension": ".py",
   "mimetype": "text/x-python",
   "name": "python",
   "nbconvert_exporter": "python",
   "pygments_lexer": "ipython3",
   "version": "3.7.6"
  }
 },
 "nbformat": 4,
 "nbformat_minor": 4
}
